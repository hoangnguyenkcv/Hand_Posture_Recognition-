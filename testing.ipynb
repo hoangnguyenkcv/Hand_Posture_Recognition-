{
 "cells": [
  {
   "cell_type": "code",
   "execution_count": 1,
   "metadata": {
    "collapsed": false
   },
   "outputs": [
    {
     "name": "stderr",
     "output_type": "stream",
     "text": [
      "Using TensorFlow backend.\n"
     ]
    }
   ],
   "source": [
    "import keras\n",
    "from keras.models import Sequential\n",
    "from keras import backend as K\n",
    "from keras.layers import Input\n",
    "from keras.models import Model\n",
    "from keras.layers.core import Dense, Dropout, Activation, Flatten\n",
    "from keras.layers.convolutional import Convolution2D, MaxPooling2D\n",
    "from keras.optimizers import SGD, RMSprop, Adam\n",
    "from keras.metrics import categorical_crossentropy\n",
    "from keras.preprocessing.image import ImageDataGenerator\n",
    "from keras.layers.normalization import  BatchNormalization\n",
    "from keras.layers.convolutional import *\n",
    "from keras import regularizers\n",
    "import numpy as np\n",
    "import tensorflow as tf\n",
    "import  matplotlib.pyplot as plt\n",
    "import matplotlib\n",
    "import itertools\n",
    "from numpy import*\n",
    "from sklearn.utils import shuffle\n",
    "%matplotlib inline\n",
    "import random as rn\n",
    "import os\n",
    "os.environ['PYTHONASHSEED']= '0'"
   ]
  },
  {
   "cell_type": "code",
   "execution_count": 2,
   "metadata": {
    "collapsed": true
   },
   "outputs": [],
   "source": [
    "\n",
    "#################################################\n",
    "def CNN_model(input_tensor=None, input_shape=None, pooling=None, classes=5):\n",
    "    \n",
    "    # Determine proper input shape\n",
    "    if input_shape == None:\n",
    "        input_shape = (200,200,3)\n",
    "    \n",
    "    img_input = Input(input_shape)\n",
    "\n",
    "    # Block 1\n",
    "    x = Conv2D(32, (3, 3), activation='relu', padding='same', name='block11_conv1')(img_input)\n",
    "    x = MaxPooling2D((2, 2), strides=(2, 2), name='block11_pool')(x)\n",
    "\n",
    "    # Block 2\n",
    "    x = Conv2D(64, (3, 3), activation='relu', padding='same', name='block12_conv1')(x)\n",
    "    x = MaxPooling2D((2, 2), strides=(2, 2), name='block12_pool')(x)\n",
    "    x = Dropout(0.5)(x) \n",
    "    # Block 3\n",
    "    x = Conv2D(64, (3, 3), activation='relu', padding='same', name='block13_conv1')(x)\n",
    "    x = MaxPooling2D((2, 2), strides=(2, 2), name='block13_pool')(x)\n",
    "    x = Dropout(0.5)(x) \n",
    "    \n",
    "    # Classification block\n",
    "    x = Flatten(name='flatten1')(x)\n",
    "    x = Dense(200, activation='relu', kernel_regularizer=regularizers.l2(0.01), name='fc11')(x)\n",
    "    x = Dropout(0.5)(x) \n",
    "    x = Dense(200, activation='relu', kernel_regularizer=regularizers.l2(0.01), name='fc12')(x)\n",
    "    x = Dropout(0.5)(x) \n",
    "    x = Dense(classes, activation='softmax', name='predictions1')(x)\n",
    "\n",
    "\n",
    "    # Ensure that the model takes into account\n",
    "    # any potential predecessors of `input_tensor`.\n",
    "    if input_tensor is not None:\n",
    "        inputs = get_source_inputs(input_tensor)\n",
    "    else:\n",
    "        inputs = img_input\n",
    "    # Create model.\n",
    "    model = Model(inputs, x, name='hand_model')\n",
    "    return model"
   ]
  },
  {
   "cell_type": "code",
   "execution_count": 3,
   "metadata": {
    "collapsed": true
   },
   "outputs": [],
   "source": [
    "posture_model = CNN_model()"
   ]
  },
  {
   "cell_type": "code",
   "execution_count": 4,
   "metadata": {
    "collapsed": false
   },
   "outputs": [],
   "source": [
    "posture_model.load_weights(\"handposture1.weights.best.hdf5\")\n",
    "# posture_model.load_weights(\"hand_model_weights.h5\")"
   ]
  },
  {
   "cell_type": "code",
   "execution_count": 5,
   "metadata": {
    "collapsed": true
   },
   "outputs": [],
   "source": [
    "import matplotlib.pyplot as plt"
   ]
  },
  {
   "cell_type": "code",
   "execution_count": 7,
   "metadata": {
    "collapsed": true
   },
   "outputs": [],
   "source": [
    "classes = ['A','B','C','Point','V']\n"
   ]
  },
  {
   "cell_type": "code",
   "execution_count": 8,
   "metadata": {
    "collapsed": false
   },
   "outputs": [
    {
     "name": "stdout",
     "output_type": "stream",
     "text": [
      "Found 259 images belonging to 5 classes.\n"
     ]
    }
   ],
   "source": [
    "valid_path = 'Data/Test'\n",
    "test_datagen=ImageDataGenerator(rescale=1./255)\n",
    "valid_batches = test_datagen.flow_from_directory(valid_path, target_size = (200,200), classes = classes, batch_size = 1, shuffle=False)"
   ]
  },
  {
   "cell_type": "code",
   "execution_count": 9,
   "metadata": {
    "collapsed": false
   },
   "outputs": [],
   "source": [
    "result = posture_model.predict_generator(valid_batches)\n"
   ]
  },
  {
   "cell_type": "code",
   "execution_count": null,
   "metadata": {
    "collapsed": false
   },
   "outputs": [],
   "source": [
    "pred = np.argmax(result, axis=1)"
   ]
  },
  {
   "cell_type": "code",
   "execution_count": null,
   "metadata": {
    "collapsed": false
   },
   "outputs": [],
   "source": [
    "pred"
   ]
  },
  {
   "cell_type": "code",
   "execution_count": null,
   "metadata": {
    "collapsed": false
   },
   "outputs": [],
   "source": [
    "valid_batches.classes\n"
   ]
  },
  {
   "cell_type": "code",
   "execution_count": null,
   "metadata": {
    "collapsed": true
   },
   "outputs": [],
   "source": [
    "from sklearn.metrics import accuracy_score, confusion_matrix"
   ]
  },
  {
   "cell_type": "code",
   "execution_count": null,
   "metadata": {
    "collapsed": false
   },
   "outputs": [],
   "source": [
    "accuracy_score(valid_batches.classes, pred)"
   ]
  },
  {
   "cell_type": "code",
   "execution_count": null,
   "metadata": {
    "collapsed": false
   },
   "outputs": [],
   "source": [
    "valid_batches.filenames[-1]"
   ]
  },
  {
   "cell_type": "code",
   "execution_count": null,
   "metadata": {
    "collapsed": false
   },
   "outputs": [],
   "source": [
    "confusion_matrix(valid_batches.classes, pred)"
   ]
  },
  {
   "cell_type": "code",
   "execution_count": null,
   "metadata": {
    "collapsed": false
   },
   "outputs": [],
   "source": [
    "classes = ['A','B','C','Point','V']\n",
    "import cv2\n",
    "from PIL import Image\n",
    "\n",
    "frame_path = '.\\Data\\\\Test\\\\Point\\\\2.jpg'\n",
    "im = Image.open(frame_path) \n",
    "im = im.resize((200,200))\n",
    "plt.imshow(im)\n",
    "imarr = np.array(im).astype(np.float32)\n",
    "imarr = np.expand_dims(imarr/255, axis=0)\n",
    "print(imarr.shape)\n",
    "proba = posture_model.predict(imarr, verbose=0)\n",
    "pred_cls = np.argmax(proba,axis=-1)  \n",
    "print(proba)\n",
    "print(pred_cls)\n"
   ]
  },
  {
   "cell_type": "code",
   "execution_count": null,
   "metadata": {
    "collapsed": true
   },
   "outputs": [],
   "source": []
  }
 ],
 "metadata": {
  "anaconda-cloud": {},
  "kernelspec": {
   "display_name": "Python [conda root]",
   "language": "python",
   "name": "conda-root-py"
  },
  "language_info": {
   "codemirror_mode": {
    "name": "ipython",
    "version": 3
   },
   "file_extension": ".py",
   "mimetype": "text/x-python",
   "name": "python",
   "nbconvert_exporter": "python",
   "pygments_lexer": "ipython3",
   "version": "3.5.2"
  }
 },
 "nbformat": 4,
 "nbformat_minor": 1
}
