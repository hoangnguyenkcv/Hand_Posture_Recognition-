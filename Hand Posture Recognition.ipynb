{
 "cells": [
  {
   "cell_type": "code",
   "execution_count": 1,
   "metadata": {
    "collapsed": false
   },
   "outputs": [
    {
     "name": "stdout",
     "output_type": "stream",
     "text": [
      "[name: \"/cpu:0\"\n",
      "device_type: \"CPU\"\n",
      "memory_limit: 268435456\n",
      "locality {\n",
      "}\n",
      "incarnation: 14098862338290305090\n",
      ", name: \"/gpu:0\"\n",
      "device_type: \"GPU\"\n",
      "memory_limit: 6735474197\n",
      "locality {\n",
      "  bus_id: 1\n",
      "}\n",
      "incarnation: 8131133535121368825\n",
      "physical_device_desc: \"device: 0, name: GeForce GTX 1080, pci bus id: 0000:01:00.0\"\n",
      "]\n"
     ]
    }
   ],
   "source": [
    "from tensorflow.python.client import device_lib\n",
    "print(device_lib.list_local_devices())"
   ]
  },
  {
   "cell_type": "code",
   "execution_count": 2,
   "metadata": {
    "collapsed": false
   },
   "outputs": [
    {
     "name": "stderr",
     "output_type": "stream",
     "text": [
      "Using TensorFlow backend.\n"
     ]
    }
   ],
   "source": [
    "import keras\n",
    "from keras.models import Sequential\n",
    "from keras import backend as K\n",
    "from keras.layers import Input\n",
    "from keras.models import Model\n",
    "from keras.layers.core import Dense, Dropout, Activation, Flatten\n",
    "from keras.layers.convolutional import Convolution2D, MaxPooling2D\n",
    "from keras.optimizers import SGD, RMSprop, Adam\n",
    "from keras.metrics import categorical_crossentropy\n",
    "from keras.preprocessing.image import ImageDataGenerator\n",
    "from keras.layers.normalization import  BatchNormalization\n",
    "from keras.layers.convolutional import *\n",
    "from keras import regularizers\n",
    "import numpy as np\n",
    "import tensorflow as tf\n",
    "import  matplotlib.pyplot as plt\n",
    "import matplotlib\n",
    "import itertools\n",
    "from numpy import*\n",
    "from sklearn.utils import shuffle\n",
    "%matplotlib inline\n",
    "import random as rn\n",
    "import os\n",
    "os.environ['PYTHONASHSEED']= '0'"
   ]
  },
  {
   "cell_type": "code",
   "execution_count": 3,
   "metadata": {
    "collapsed": true
   },
   "outputs": [],
   "source": [
    "#setting  the  seed for nummy_gennerated random numbers\n",
    "np.random.seed(7)\n",
    "#seting the seed for python random numbers\n",
    "rn.seed(124)\n",
    "#seting the seed for tensorflow random numbers\n",
    "tf.set_random_seed(57)"
   ]
  },
  {
   "cell_type": "code",
   "execution_count": 4,
   "metadata": {
    "collapsed": true
   },
   "outputs": [],
   "source": [
    "batch_size = 8\n",
    "n_epochs = 50\n"
   ]
  },
  {
   "cell_type": "code",
   "execution_count": 5,
   "metadata": {
    "collapsed": false
   },
   "outputs": [
    {
     "name": "stdout",
     "output_type": "stream",
     "text": [
      "5\n",
      "5211\n",
      "5\n",
      "259\n"
     ]
    }
   ],
   "source": [
    "\n",
    "##### calculate  number of imag\n",
    "import os\n",
    "classes_name_train = []\n",
    "files_name_train = []\n",
    "classes_name_test = []\n",
    "files_name_test = []\n",
    "for root, dirs, files in os.walk('Data/Train'):  \n",
    "    for name in dirs:\n",
    "        classes_name_train.append(name)\n",
    "    for name1 in files:\n",
    "        files_name_train.append(name1)\n",
    "        \n",
    "for root, dirs, files in os.walk('Data/Test'):  \n",
    "    for name in dirs:\n",
    "        classes_name_test.append(name)\n",
    "    for name1 in files:\n",
    "        files_name_test.append(name1)\n",
    "\n",
    "no_training = len(files_name_train)\n",
    "no_testing = len(files_name_test)\n",
    "        \n",
    "print(len(classes_name_train))\n",
    "print(len(files_name_train))\n",
    "print(len(classes_name_test))\n",
    "print(len(files_name_test))\n",
    "number_classes = len(classes_name_train)"
   ]
  },
  {
   "cell_type": "code",
   "execution_count": 6,
   "metadata": {
    "collapsed": true
   },
   "outputs": [],
   "source": [
    "train_path = 'Data/Train' \n",
    "valid_path = 'Data/Test' \n",
    "classes = ['A','B','C','Point','V']\n",
    "num_classes = 5"
   ]
  },
  {
   "cell_type": "code",
   "execution_count": 7,
   "metadata": {
    "collapsed": true
   },
   "outputs": [],
   "source": [
    "\n",
    "train_datagen=ImageDataGenerator(\n",
    "                                   rescale = 1./255,\n",
    "                                   shear_range = 0.2,\n",
    "                                   zoom_range = 0.2,\n",
    "                                   horizontal_flip = False\n",
    "                                 )\n",
    "\n",
    "test_datagen=ImageDataGenerator(rescale=1./255)"
   ]
  },
  {
   "cell_type": "code",
   "execution_count": 8,
   "metadata": {
    "collapsed": false
   },
   "outputs": [
    {
     "name": "stdout",
     "output_type": "stream",
     "text": [
      "Found 5211 images belonging to 5 classes.\n",
      "Found 259 images belonging to 5 classes.\n"
     ]
    }
   ],
   "source": [
    "\n",
    "train_batches = train_datagen.flow_from_directory(train_path, target_size = (200,200), classes = classes, batch_size = batch_size)\n",
    "valid_batches = test_datagen.flow_from_directory(valid_path, target_size = (200,200), classes = classes, batch_size = batch_size)"
   ]
  },
  {
   "cell_type": "code",
   "execution_count": 9,
   "metadata": {
    "collapsed": false
   },
   "outputs": [],
   "source": [
    "import pandas as pd"
   ]
  },
  {
   "cell_type": "code",
   "execution_count": 10,
   "metadata": {
    "collapsed": true
   },
   "outputs": [],
   "source": [
    "train_df = pd.DataFrame(columns=[\"fname\", \"label\"])\n",
    "train_df[\"fname\"] = train_batches.filenames\n",
    "train_df[\"label\"] = train_batches.classes"
   ]
  },
  {
   "cell_type": "code",
   "execution_count": 11,
   "metadata": {
    "collapsed": false
   },
   "outputs": [
    {
     "data": {
      "text/plain": [
       "<matplotlib.axes._subplots.AxesSubplot at 0x1fe78b2f6a0>"
      ]
     },
     "execution_count": 11,
     "metadata": {},
     "output_type": "execute_result"
    },
    {
     "data": {
      "image/png": "[encoded data removed]",
      "text/plain": [
       "<Figure size 432x288 with 1 Axes>"
      ]
     },
     "metadata": {},
     "output_type": "display_data"
    }
   ],
   "source": [
    "train_df.groupby(\"label\")[\"fname\"].agg(\"count\").plot.bar()"
   ]
  },
  {
   "cell_type": "code",
   "execution_count": 12,
   "metadata": {
    "collapsed": true
   },
   "outputs": [],
   "source": [
    "test_df = pd.DataFrame(columns=[\"fname\", \"label\"])\n",
    "test_df[\"fname\"] = valid_batches.filenames\n",
    "test_df[\"label\"] = valid_batches.classes"
   ]
  },
  {
   "cell_type": "code",
   "execution_count": 13,
   "metadata": {
    "collapsed": false
   },
   "outputs": [
    {
     "data": {
      "text/plain": [
       "<matplotlib.axes._subplots.AxesSubplot at 0x1ffb75bdc88>"
      ]
     },
     "execution_count": 13,
     "metadata": {},
     "output_type": "execute_result"
    },
    {
     "data": {
      "image/png": "[encoded data removed]",
      "text/plain": [
       "<Figure size 432x288 with 1 Axes>"
      ]
     },
     "metadata": {},
     "output_type": "display_data"
    }
   ],
   "source": [
    "test_df.groupby(\"label\")[\"fname\"].agg(\"count\").plot.bar()"
   ]
  },
  {
   "cell_type": "code",
   "execution_count": 14,
   "metadata": {
    "collapsed": true
   },
   "outputs": [],
   "source": [
    "y_train = train_batches.classes\n",
    "y_val = valid_batches.classes"
   ]
  },
  {
   "cell_type": "code",
   "execution_count": 15,
   "metadata": {
    "collapsed": true
   },
   "outputs": [],
   "source": [
    "from sklearn.utils import class_weight\n",
    "train_class_weight = class_weight.compute_class_weight('balanced',\n",
    "                                             np.unique(y_train),\n",
    "                                             y_train)"
   ]
  },
  {
   "cell_type": "code",
   "execution_count": 16,
   "metadata": {
    "collapsed": true
   },
   "outputs": [],
   "source": [
    "from sklearn.utils import class_weight\n",
    "valid_class_weight = class_weight.compute_class_weight('balanced',\n",
    "                                             np.unique(y_val),\n",
    "                                             y_val)"
   ]
  },
  {
   "cell_type": "code",
   "execution_count": 17,
   "metadata": {
    "collapsed": true
   },
   "outputs": [],
   "source": [
    "\n",
    "#################################################\n",
    "def CNN_model(input_tensor=None, input_shape=None, pooling=None, classes=5):\n",
    "    \n",
    "    # Determine proper input shape\n",
    "    if input_shape == None:\n",
    "        input_shape = (200,200,3)\n",
    "    \n",
    "    img_input = Input(input_shape)\n",
    "\n",
    "    # Block 1\n",
    "    x = Conv2D(32, (3, 3), activation='relu', padding='same', name='block11_conv1')(img_input)\n",
    "    x = MaxPooling2D((2, 2), strides=(2, 2), name='block11_pool')(x)\n",
    "\n",
    "    # Block 2\n",
    "    x = Conv2D(64, (3, 3), activation='relu', padding='same', name='block12_conv1')(x)\n",
    "    x = MaxPooling2D((2, 2), strides=(2, 2), name='block12_pool')(x)\n",
    "    x = Dropout(0.5)(x) \n",
    "    # Block 3\n",
    "    x = Conv2D(64, (3, 3), activation='relu', padding='same', name='block13_conv1')(x)\n",
    "    x = MaxPooling2D((2, 2), strides=(2, 2), name='block13_pool')(x)\n",
    "    x = Dropout(0.5)(x) \n",
    "    \n",
    "    # Classification block\n",
    "    x = Flatten(name='flatten1')(x)\n",
    "    x = Dense(200, activation='relu', kernel_regularizer=regularizers.l2(0.01), name='fc11')(x)\n",
    "    x = Dropout(0.5)(x) \n",
    "    x = Dense(200, activation='relu', kernel_regularizer=regularizers.l2(0.01), name='fc12')(x)\n",
    "    x = Dropout(0.5)(x) \n",
    "    x = Dense(classes, activation='softmax', name='predictions1')(x)\n",
    "\n",
    "\n",
    "    # Ensure that the model takes into account\n",
    "    # any potential predecessors of `input_tensor`.\n",
    "    if input_tensor is not None:\n",
    "        inputs = get_source_inputs(input_tensor)\n",
    "    else:\n",
    "        inputs = img_input\n",
    "    # Create model.\n",
    "    model = Model(inputs, x, name='hand_model')\n",
    "    return model"
   ]
  },
  {
   "cell_type": "code",
   "execution_count": 18,
   "metadata": {
    "collapsed": true
   },
   "outputs": [],
   "source": [
    "model = CNN_model()\n",
    "opt = Adam(lr=0.001, decay= 10e-6)\n",
    "model.compile(loss='categorical_crossentropy', optimizer=opt, metrics=['accuracy'])"
   ]
  },
  {
   "cell_type": "code",
   "execution_count": 19,
   "metadata": {
    "collapsed": false
   },
   "outputs": [
    {
     "name": "stdout",
     "output_type": "stream",
     "text": [
      "_________________________________________________________________\n",
      "Layer (type)                 Output Shape              Param #   \n",
      "=================================================================\n",
      "input_1 (InputLayer)         (None, 200, 200, 3)       0         \n",
      "_________________________________________________________________\n",
      "block11_conv1 (Conv2D)       (None, 200, 200, 32)      896       \n",
      "_________________________________________________________________\n",
      "block11_pool (MaxPooling2D)  (None, 100, 100, 32)      0         \n",
      "_________________________________________________________________\n",
      "block12_conv1 (Conv2D)       (None, 100, 100, 64)      18496     \n",
      "_________________________________________________________________\n",
      "block12_pool (MaxPooling2D)  (None, 50, 50, 64)        0         \n",
      "_________________________________________________________________\n",
      "dropout_1 (Dropout)          (None, 50, 50, 64)        0         \n",
      "_________________________________________________________________\n",
      "block13_conv1 (Conv2D)       (None, 50, 50, 64)        36928     \n",
      "_________________________________________________________________\n",
      "block13_pool (MaxPooling2D)  (None, 25, 25, 64)        0         \n",
      "_________________________________________________________________\n",
      "dropout_2 (Dropout)          (None, 25, 25, 64)        0         \n",
      "_________________________________________________________________\n",
      "flatten1 (Flatten)           (None, 40000)             0         \n",
      "_________________________________________________________________\n",
      "fc11 (Dense)                 (None, 200)               8000200   \n",
      "_________________________________________________________________\n",
      "dropout_3 (Dropout)          (None, 200)               0         \n",
      "_________________________________________________________________\n",
      "fc12 (Dense)                 (None, 200)               40200     \n",
      "_________________________________________________________________\n",
      "dropout_4 (Dropout)          (None, 200)               0         \n",
      "_________________________________________________________________\n",
      "predictions1 (Dense)         (None, 5)                 1005      \n",
      "=================================================================\n",
      "Total params: 8,097,725\n",
      "Trainable params: 8,097,725\n",
      "Non-trainable params: 0\n",
      "_________________________________________________________________\n"
     ]
    }
   ],
   "source": [
    "model.summary()"
   ]
  },
  {
   "cell_type": "code",
   "execution_count": null,
   "metadata": {
    "collapsed": false
   },
   "outputs": [
    {
     "name": "stdout",
     "output_type": "stream",
     "text": [
      "Epoch 1/50\n"
     ]
    }
   ],
   "source": [
    "\n",
    "### training  \n",
    "from keras.callbacks import ModelCheckpoint\n",
    "# Save check point\n",
    "filepath = \"handposture1.weights.best.hdf5\"\n",
    "checkpoint = ModelCheckpoint(filepath, monitor='val_acc', verbose =1, save_best_only = True, mode ='max')\n",
    "callbacks_list= [checkpoint]\n",
    " # Fit the model\n",
    "# model.fit(X,Y, validation_split=0.33, nb_epoch =150, batch_size =10, callbacks = callbacks_list, verbose =0)\n",
    "\n",
    "history = model.fit_generator(\n",
    "    train_batches, \n",
    "    steps_per_epoch = int(no_training / batch_size), \n",
    "    validation_data = valid_batches, \n",
    "    validation_steps = int(no_testing / batch_size), \n",
    "    epochs = n_epochs, \n",
    "    shuffle=True, \n",
    "    class_weight=train_class_weight,\n",
    "    callbacks = callbacks_list, \n",
    "    verbose =2\n",
    ")"
   ]
  },
  {
   "cell_type": "code",
   "execution_count": null,
   "metadata": {
    "collapsed": false
   },
   "outputs": [],
   "source": [
    "# plot history \n",
    "print(history.history.keys())\n",
    "# summarize history for accuracy\n",
    "plt.plot(history.history['acc'])\n",
    "plt.plot(history.history['val_acc'])\n",
    "plt.title('model accuracy')\n",
    "plt.ylabel('accuracy')\n",
    "plt.xlabel('epoch')\n",
    "plt.legend(['train','valid'], loc= 'upper left' )\n",
    "plt.show()"
   ]
  },
  {
   "cell_type": "code",
   "execution_count": null,
   "metadata": {
    "collapsed": false
   },
   "outputs": [],
   "source": [
    "from keras.models import model_from_json\n",
    "model_json = model.to_json()\n",
    "with open(\"hand_model1.json\", \"w\") as json_file:\n",
    "    json_file.write(model_json)\n",
    "# serialize weights to HDF5\n",
    "model.save_weights(\"hand_model1_weights.h5\")\n",
    "print(\"Saved model to drive\")"
   ]
  },
  {
   "cell_type": "code",
   "execution_count": null,
   "metadata": {
    "collapsed": true
   },
   "outputs": [],
   "source": []
  }
 ],
 "metadata": {
  "anaconda-cloud": {},
  "kernelspec": {
   "display_name": "Python [conda env:Anaconda3]",
   "language": "python",
   "name": "conda-env-Anaconda3-py"
  },
  "language_info": {
   "codemirror_mode": {
    "name": "ipython",
    "version": 3
   },
   "file_extension": ".py",
   "mimetype": "text/x-python",
   "name": "python",
   "nbconvert_exporter": "python",
   "pygments_lexer": "ipython3",
   "version": "3.5.2"
  }
 },
 "nbformat": 4,
 "nbformat_minor": 1
}
